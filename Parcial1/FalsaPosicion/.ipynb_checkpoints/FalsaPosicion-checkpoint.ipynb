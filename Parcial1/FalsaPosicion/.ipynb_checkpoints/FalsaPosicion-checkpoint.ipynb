{
 "cells": [
  {
   "cell_type": "code",
   "execution_count": 1,
   "metadata": {},
   "outputs": [
    {
     "name": "stdout",
     "output_type": "stream",
     "text": [
      "20.016032844856007\n",
      "18.019249695911775\n",
      "17.219255871756555\n",
      "16.89874529501973\n",
      "16.77033551647094\n",
      "16.718889254089124\n",
      "16.69827775593867\n",
      "16.690019938240404\n",
      "16.686711515308698\n",
      "16.685386024398753\n",
      "16.68485497797917\n",
      "La raiz es 10.00000\n"
     ]
    }
   ],
   "source": [
    "import math\n",
    "import numpy as np\n",
    "import matplotlib.pyplot as plt\n",
    "\n",
    "def fun(c):\n",
    "    return (667.38/c)*(1-math.exp(-6.81*c))-40\n",
    "\n",
    "#Elegir valores iniciales x0 y x1\n",
    "#Donde haya un cambio de signo\n",
    "\n",
    "xarray = np.linspace(10,25,100)\n",
    "yarray = np.zeros(100)\n",
    "\n",
    "for i in range(100):\n",
    "    yarray[i] = fun(xarray[i])\n",
    "plt.plot(xarray,yarray)\n",
    "plt.grid()\n",
    "\n",
    "x0=10\n",
    "x1=25\n",
    "\n",
    "for i in range(100):\n",
    "    f0 = fun(x0)\n",
    "    f1 = fun(x1)\n",
    "    if f0*f1 > 0:\n",
    "        print(\"No hay raiz en este rango\")\n",
    "        break\n",
    "    #xr=x0+fx0(x1-x0)/(fx1-fx0)\n",
    "    x = x0-f0*(x1-x0)/(f1-f0) #cambiar linea\n",
    "    print(x)\n",
    "    fx = fun(x)\n",
    "    if fx*f1 < 0:\n",
    "        x0 = x\n",
    "    else:\n",
    "        x1 = x\n",
    "    if abs(fx) < 0.001:\n",
    "        break\n",
    "print(\"La raiz es %.5f\"%x0)\n",
    "    "
   ]
  },
  {
   "cell_type": "code",
   "execution_count": null,
   "metadata": {},
   "outputs": [],
   "source": []
  }
 ],
 "metadata": {
  "kernelspec": {
   "display_name": "Python 3",
   "language": "python",
   "name": "python3"
  },
  "language_info": {
   "codemirror_mode": {
    "name": "ipython",
    "version": 3
   },
   "file_extension": ".py",
   "mimetype": "text/x-python",
   "name": "python",
   "nbconvert_exporter": "python",
   "pygments_lexer": "ipython3",
   "version": "3.6.5"
  }
 },
 "nbformat": 4,
 "nbformat_minor": 2
}
