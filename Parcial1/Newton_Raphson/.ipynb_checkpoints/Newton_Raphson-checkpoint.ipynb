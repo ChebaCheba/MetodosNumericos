{
 "cells": [
  {
   "cell_type": "code",
   "execution_count": 1,
   "metadata": {},
   "outputs": [
    {
     "name": "stdout",
     "output_type": "stream",
     "text": [
      "El valor de la raiz es 0.99924\n",
      "Numero de iteraciones 5\n"
     ]
    }
   ],
   "source": [
    "def f(x):\n",
    "    return 2*x**2-5*x+3\n",
    "def fprima(x):\n",
    "    return 4*x-5\n",
    "\n",
    "x0=0\n",
    "itera=0\n",
    "for i in range(100):\n",
    "    itera+=1\n",
    "    xr = x0 - f(x0)/fprima(x0)\n",
    "    fxr = f(xr)\n",
    "    if abs(fxr) < 0.0001:\n",
    "        break\n",
    "    x0 = xr\n",
    "print(\"El valor de la raiz es %0.5f\"%x0)\n",
    "print(\"Numero de iteraciones %i\"%itera)"
   ]
  },
  {
   "cell_type": "code",
   "execution_count": null,
   "metadata": {},
   "outputs": [],
   "source": []
  }
 ],
 "metadata": {
  "kernelspec": {
   "display_name": "Python 3",
   "language": "python",
   "name": "python3"
  },
  "language_info": {
   "codemirror_mode": {
    "name": "ipython",
    "version": 3
   },
   "file_extension": ".py",
   "mimetype": "text/x-python",
   "name": "python",
   "nbconvert_exporter": "python",
   "pygments_lexer": "ipython3",
   "version": "3.6.5"
  }
 },
 "nbformat": 4,
 "nbformat_minor": 2
}
