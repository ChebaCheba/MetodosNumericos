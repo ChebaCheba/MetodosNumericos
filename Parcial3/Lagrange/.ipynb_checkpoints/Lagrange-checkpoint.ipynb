{
 "cells": [
  {
   "cell_type": "code",
   "execution_count": 2,
   "metadata": {},
   "outputs": [
    {
     "name": "stdout",
     "output_type": "stream",
     "text": [
      "0.27432115068798*x**3 + 0.430901399661872*x**2 + 1.01277744965014*x + 1.0\n"
     ]
    },
    {
     "data": {
      "text/plain": [
       "[<matplotlib.lines.Line2D at 0x2f9def6ae10>]"
      ]
     },
     "execution_count": 2,
     "metadata": {},
     "output_type": "execute_result"
    },
    {
     "data": {
      "image/png": "[encoded data removed]",
      "text/plain": [
       "<Figure size 432x288 with 1 Axes>"
      ]
     },
     "metadata": {},
     "output_type": "display_data"
    }
   ],
   "source": [
    "#Ejemplo lagrange\n",
    "\n",
    "from sympy import *\n",
    "import matplotlib.pyplot as plt\n",
    "import numpy as np\n",
    "\n",
    "x = [0,0.33,0.66,1]\n",
    "y = [1,1.391,1.935,2.718]\n",
    "\n",
    "pL = ''\n",
    "\n",
    "for k in range(len(x)):\n",
    "    pL += str(y[k])+'* ('\n",
    "    Lxk = 1\n",
    "    for j in range(len(x)):\n",
    "        if (j == k):\n",
    "            continue\n",
    "        pL += '(x-%f)*'%(x[j])\n",
    "        Lxk *= x[k] - x[j]\n",
    "    pL = pL[:~0] + '/%f) +'%(Lxk)\n",
    "pL = pL[:~0]\n",
    "#print(pL)\n",
    "expr = sympify(pL)\n",
    "print(expand(expr))\n",
    "\n",
    "plt.plot(x,y,'ro')\n",
    "x2 = np.linspace(0,1,100)\n",
    "y2 = []\n",
    "x = symbols('x')\n",
    "for i in range(len(x2)):\n",
    "    y2.append(expr.subs(x,x2[i]))\n",
    "plt.plot(x2,y2)"
   ]
  },
  {
   "cell_type": "code",
   "execution_count": null,
   "metadata": {},
   "outputs": [],
   "source": []
  }
 ],
 "metadata": {
  "kernelspec": {
   "display_name": "Python 3",
   "language": "python",
   "name": "python3"
  },
  "language_info": {
   "codemirror_mode": {
    "name": "ipython",
    "version": 3
   },
   "file_extension": ".py",
   "mimetype": "text/x-python",
   "name": "python",
   "nbconvert_exporter": "python",
   "pygments_lexer": "ipython3",
   "version": "3.6.5"
  }
 },
 "nbformat": 4,
 "nbformat_minor": 2
}
