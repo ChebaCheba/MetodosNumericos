{
 "cells": [
  {
   "cell_type": "code",
   "execution_count": 2,
   "metadata": {},
   "outputs": [
    {
     "name": "stdout",
     "output_type": "stream",
     "text": [
      "[0.  0.5 1.  1.5 2. ]\n"
     ]
    },
    {
     "data": {
      "text/plain": [
       "[<matplotlib.lines.Line2D at 0x16ec8560080>]"
      ]
     },
     "execution_count": 2,
     "metadata": {},
     "output_type": "execute_result"
    },
    {
     "data": {
      "image/png": "[encoded data removed]",
      "text/plain": [
       "<Figure size 432x288 with 1 Axes>"
      ]
     },
     "metadata": {},
     "output_type": "display_data"
    }
   ],
   "source": [
    "#Metodo Runge-Kutta\n",
    "# y' - xy = 0; y(0) = 1; y(2) = ?\n",
    "# h = 0.5 ; h= 0.25\n",
    "# y = e^(x^2/2)\n",
    "import numpy as np\n",
    "from math import exp\n",
    "import matplotlib.pyplot as plt\n",
    "x0 = 0\n",
    "y0 = 1\n",
    "xn = 2\n",
    "h = 0.5\n",
    "\n",
    "f = lambda x,y: x*y\n",
    "n = int(abs(x0-xn)/h+1)\n",
    "x = np.linspace(x0,xn,n)\n",
    "print(x)\n",
    "\n",
    "def rk1(y0,h,f,x):\n",
    "    y = []\n",
    "    y.append(y0)\n",
    "    for i in range(1,len(x)):\n",
    "        y.append(y[i-1]+h*f(x[i-1],y[i-1]))\n",
    "    return y\n",
    "def rk2(y0,h,f,x):\n",
    "    y = []\n",
    "    y.append(y0)\n",
    "    for i in range(1,len(x)):\n",
    "        k1 = h*f(x[i-1],y[i-1])\n",
    "        k2 = h*f(x[i-1]+h/2,y[i-1]+k1/2)\n",
    "        y.append(y[i-1]+k2)\n",
    "    return y\n",
    "def rk4(y0,h,f,x):\n",
    "    y = []\n",
    "    y.append(y0)\n",
    "    for i in range(1,len(x)):\n",
    "        k1 = h*f(x[i-1],y[i-1])\n",
    "        k2 = h*f(x[i-1]+h/2,y[i-1]+k1/2)\n",
    "        k3 = h*f(x[i-1]+h/2,y[i-1]+k2/2)\n",
    "        k4 = h*f(x[i-1]+h,y[i-1]+k3)\n",
    "        y.append(y[i-1]+1/6*(k1+2*k2+2*k3+k4))\n",
    "    return y\n",
    "plt.plot(x,rk1(y0,h,f,x),'r')\n",
    "plt.plot(x,rk2(y0,h,f,x),'b')\n",
    "plt.plot(x,rk4(y0,h,f,x),'g')\n",
    "plt.plot(x,[exp(xi**2/2) for xi in x],'p')"
   ]
  },
  {
   "cell_type": "code",
   "execution_count": null,
   "metadata": {},
   "outputs": [],
   "source": []
  }
 ],
 "metadata": {
  "kernelspec": {
   "display_name": "Python 3",
   "language": "python",
   "name": "python3"
  },
  "language_info": {
   "codemirror_mode": {
    "name": "ipython",
    "version": 3
   },
   "file_extension": ".py",
   "mimetype": "text/x-python",
   "name": "python",
   "nbconvert_exporter": "python",
   "pygments_lexer": "ipython3",
   "version": "3.6.5"
  }
 },
 "nbformat": 4,
 "nbformat_minor": 2
}
