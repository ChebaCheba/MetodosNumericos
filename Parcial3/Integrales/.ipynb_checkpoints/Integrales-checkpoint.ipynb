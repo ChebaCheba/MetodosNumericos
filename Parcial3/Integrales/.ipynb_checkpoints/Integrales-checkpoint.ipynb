{
 "cells": [
  {
   "cell_type": "code",
   "execution_count": null,
   "metadata": {},
   "outputs": [],
   "source": [
    "# Integral 1/x**2, sin(x**2)\n",
    "# h = 1, h = 0.5, h=0.25\n",
    "#Intervalo de 1 a 2\n",
    "\n",
    "import numpy as np\n",
    "import math\n",
    "a=1\n",
    "b=2\n",
    "h=.25\n",
    "n = int((b-a)/h)\n",
    "x = np.linspace(1,2,n+1)\n",
    "\n",
    "def fun(x):\n",
    "    return math.sin(x**2);\n",
    "\n",
    "y = [fun(xi) for xi in x]\n",
    "print(y)\n",
    "\n",
    "def trapecio(y,h):\n",
    "    I = sum([2*yi for yi in y[1:-1]])\n",
    "    I += y[0]\n",
    "    I += y[-1]\n",
    "    I *= h/2\n",
    "    return I\n",
    "\n",
    "def simpson13(y,h):\n",
    "    I = 0\n",
    "    I+= y[0]\n",
    "    I+= y[-1]\n",
    "    for i in range(1,len(y)-1):\n",
    "        if i % 2 != 0:\n",
    "            I += 4*y[i]\n",
    "        else:\n",
    "            I += 2*y[i]\n",
    "    I *= h/3\n",
    "    return I\n",
    "\n",
    "def simpson18(y, h):\n",
    "    I = 0\n",
    "    I+= y[0]\n",
    "    I+= y[-1]\n",
    "    for i in range(1,len(y)-1):\n",
    "        I+= 3*y[i] if i%3 else 2*y[i]\n",
    "        #if i % 3 != 0:\n",
    "        #    I += 3*y[i]\n",
    "        #else:\n",
    "        #    I += 2*y[i]\n",
    "    I *= 3*h/8\n",
    "    return I\n",
    "\n",
    "print(\"Trapecio\",trapecio(y,h))\n",
    "print(\"Simpson 1/3\",simpson13(y,h))\n",
    "print(\"Simpson 1/8\",simpson18(y,h))"
   ]
  }
 ],
 "metadata": {
  "kernelspec": {
   "display_name": "Python 3",
   "language": "python",
   "name": "python3"
  },
  "language_info": {
   "codemirror_mode": {
    "name": "ipython",
    "version": 3
   },
   "file_extension": ".py",
   "mimetype": "text/x-python",
   "name": "python",
   "nbconvert_exporter": "python",
   "pygments_lexer": "ipython3",
   "version": "3.6.5"
  }
 },
 "nbformat": 4,
 "nbformat_minor": 2
}
