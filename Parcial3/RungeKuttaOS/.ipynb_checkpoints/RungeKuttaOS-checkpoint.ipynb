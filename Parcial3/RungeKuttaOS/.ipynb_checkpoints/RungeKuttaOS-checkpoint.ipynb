{
 "cells": [
  {
   "cell_type": "code",
   "execution_count": 2,
   "metadata": {},
   "outputs": [
    {
     "data": {
      "text/plain": [
       "[<matplotlib.lines.Line2D at 0x26579712550>]"
      ]
     },
     "execution_count": 2,
     "metadata": {},
     "output_type": "execute_result"
    },
    {
     "data": {
      "image/png": "[encoded data removed]",
      "text/plain": [
       "<Figure size 432x288 with 1 Axes>"
      ]
     },
     "metadata": {},
     "output_type": "display_data"
    }
   ],
   "source": [
    "# y'' + y = 4x + 10senx; y(pi)=0 ; y'(pi) = 2; y(2pi) = ?\n",
    "#Solucion 9picosx + 7sinx+4x-5xcosx\n",
    "from math import pi,sin\n",
    "import numpy as np\n",
    "import matplotlib.pyplot as plt\n",
    "x0 = pi\n",
    "xn = 2*pi\n",
    "h = 0.5\n",
    "n = int(abs(x0-xn)/h+1)\n",
    "x = np.linspace(x0,xn,n)\n",
    "dy = lambda x,y,u: u\n",
    "du = lambda x,y,u: 4*x+10*sin(x)-y\n",
    "y0 = 0\n",
    "u0 = 2\n",
    "\n",
    "\n",
    "def rk4_2(y0,u0, h,dy,du,x):\n",
    "    y = []\n",
    "    y.append(y0)\n",
    "    u = []\n",
    "    u.append(u0)\n",
    "    for i in range(1,len(x)):\n",
    "        l1 = h*du(x[i-1],y[i-1],u[i-1])\n",
    "        k1 = h*dy(x[i-1],y[i-1],u[i-1])\n",
    "        k2 = h*dy(x[i-1]+h/2,y[i-1]+k1/2,u[i-1]+k1/2)\n",
    "        l2 = h*du(x[i-1]+h/2,y[i-1]+k1/2,u[i-1]+l1/2)\n",
    "        k3 = h*dy(x[i-1]+h/2,y[i-1]+k2/2,u[i-1]+k2/2)\n",
    "        l3 = h*du(x[i-1]+h/2,y[i-1]+k2/2,u[i-1]+l2/2)\n",
    "        k4 = h*dy(x[i-1]+h,y[i-1]+k3,u[i-1]+k3)\n",
    "        l4 = h*du(x[i-1]+h,y[i-1]+k3,u[i-1]+l3)\n",
    "        y.append(y[i-1]+1/6*(k1+2*k2+2*k3+k4))\n",
    "        u.append(u[i-1]+1/6*(l1+2*l2+2*l3+l4))\n",
    "    return y\n",
    "\n",
    "plt.plot(x,rk4_2(y0,u0,h,dy,du,x),'b')"
   ]
  },
  {
   "cell_type": "code",
   "execution_count": null,
   "metadata": {},
   "outputs": [],
   "source": []
  }
 ],
 "metadata": {
  "kernelspec": {
   "display_name": "Python 3",
   "language": "python",
   "name": "python3"
  },
  "language_info": {
   "codemirror_mode": {
    "name": "ipython",
    "version": 3
   },
   "file_extension": ".py",
   "mimetype": "text/x-python",
   "name": "python",
   "nbconvert_exporter": "python",
   "pygments_lexer": "ipython3",
   "version": "3.6.5"
  }
 },
 "nbformat": 4,
 "nbformat_minor": 2
}
