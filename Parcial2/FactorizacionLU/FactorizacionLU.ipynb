{
 "cells": [
  {
   "cell_type": "code",
   "execution_count": 1,
   "metadata": {},
   "outputs": [
    {
     "name": "stdout",
     "output_type": "stream",
     "text": [
      "[[1, 0, 0], [4.0, 1, 0], [2.0, -0.14285714285714285, 1]]\n",
      "[[1, 2, 4], [0.0, -7.0, -17.0], [0.0, 0.0, -8.428571428571429]]\n",
      "[[11], [-44.0], [-25.285714285714285]]\n",
      "[[1.0], [-1.0], [3.0]]\n"
     ]
    }
   ],
   "source": [
    "#x1+2x2+4x3=11\n",
    "#4x1+x2-x3=0\n",
    "#2x1+5x2+2x3=3\n",
    "\n",
    "def createMatrix(m,n,v):\n",
    "    C = []\n",
    "    for i in range(m):\n",
    "        C.append([v]*n)\n",
    "    return C\n",
    "\n",
    "U = createMatrix(3,3,0)\n",
    "U[0] = [1,2,4]\n",
    "U[1] = [4,1,-1]\n",
    "U[2] = [2,5,2]\n",
    "\n",
    "L = createMatrix(3,3,0)\n",
    "L[0] = [1,0,0]\n",
    "L[1] = [0,1,0]\n",
    "L[2] = [0,0,1]\n",
    "\n",
    "for i in range(3):\n",
    "    a = U[i][i]\n",
    "    if a == 0:\n",
    "        print(\"La matriz no tiene LU\")\n",
    "        break\n",
    "    for j in range(i+1,3):\n",
    "        b = U[j][i]\n",
    "        c = -1*b/a\n",
    "        L[j][i] = -1*c\n",
    "        T = createMatrix(1,3,0)\n",
    "        for k in range(3):\n",
    "            T[0][k] = c*U[i][k]\n",
    "        for k in range(3):\n",
    "            U[j][k] += T[0][k]\n",
    "print(L)\n",
    "print(U)\n",
    "\n",
    "Z = createMatrix(3,1,0)\n",
    "C = createMatrix(3,1,0)\n",
    "C[0] = [11]\n",
    "C[1] = [0]\n",
    "C[2] = [3]\n",
    "\n",
    "for i in range(3):\n",
    "    Z[i][0] = C[i][0]\n",
    "    for j in range(3):\n",
    "        if i == j:\n",
    "            break\n",
    "        Z[i][0] -= L[i][j]*Z[j][0]\n",
    "        \n",
    "print(Z)\n",
    "\n",
    "B = createMatrix(3,1,0)\n",
    "for i in range(2,-1,-1):\n",
    "    B[i][0] = Z[i][0]\n",
    "    for j in range(2,-1,-1):\n",
    "        if i == j:\n",
    "            B[i][0] = B[i][0]/U[i][j]\n",
    "            break\n",
    "        B[i][0] -= U[i][j]*B[j][0]\n",
    "print(B)"
   ]
  },
  {
   "cell_type": "code",
   "execution_count": null,
   "metadata": {},
   "outputs": [],
   "source": []
  }
 ],
 "metadata": {
  "kernelspec": {
   "display_name": "Python 3",
   "language": "python",
   "name": "python3"
  },
  "language_info": {
   "codemirror_mode": {
    "name": "ipython",
    "version": 3
   },
   "file_extension": ".py",
   "mimetype": "text/x-python",
   "name": "python",
   "nbconvert_exporter": "python",
   "pygments_lexer": "ipython3",
   "version": "3.6.5"
  }
 },
 "nbformat": 4,
 "nbformat_minor": 2
}
