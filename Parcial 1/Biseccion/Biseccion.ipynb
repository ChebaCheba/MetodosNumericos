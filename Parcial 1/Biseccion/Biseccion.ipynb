{
 "cells": [
  {
   "cell_type": "code",
   "execution_count": 2,
   "metadata": {},
   "outputs": [
    {
     "name": "stdout",
     "output_type": "stream",
     "text": [
      "La raiz es 16.68427\n"
     ]
    },
    {
     "data": {
      "image/png": "[encoded data removed]",
      "text/plain": [
       "<Figure size 432x288 with 1 Axes>"
      ]
     },
     "metadata": {},
     "output_type": "display_data"
    }
   ],
   "source": [
    "import math\n",
    "import numpy as np\n",
    "import matplotlib.pyplot as plt\n",
    "\n",
    "def fun(c):\n",
    "    return (667.38/c)*(1-math.exp(-6.81*c))-40\n",
    "\n",
    "#Elegir valores iniciales x0 y x1\n",
    "#Donde haya un cambio de signo\n",
    "\n",
    "xarray = np.linspace(10,25,100)\n",
    "yarray = np.zeros(100)\n",
    "\n",
    "for i in range(100):\n",
    "    yarray[i] = fun(xarray[i])\n",
    "plt.plot(xarray,yarray)\n",
    "plt.grid()\n",
    "\n",
    "x0=10\n",
    "x1=25\n",
    "\n",
    "for i in range(100):\n",
    "    f0 = fun(x0)\n",
    "    f1 = fun(x1)\n",
    "    if f0*f1 > 0:\n",
    "        print(\"No hay raiz en este rango\")\n",
    "        break\n",
    "    x = (x0 + x1)/2\n",
    "    fx = fun(x)\n",
    "    if fx*f1 < 0:\n",
    "        x0 = x\n",
    "    else:\n",
    "        x1 = x\n",
    "    if abs(fx) < 0.001:\n",
    "        break\n",
    "print(\"La raiz es %.5f\"%x0)\n",
    "    "
   ]
  },
  {
   "cell_type": "code",
   "execution_count": null,
   "metadata": {},
   "outputs": [],
   "source": []
  }
 ],
 "metadata": {
  "kernelspec": {
   "display_name": "Python 3",
   "language": "python",
   "name": "python3"
  },
  "language_info": {
   "codemirror_mode": {
    "name": "ipython",
    "version": 3
   },
   "file_extension": ".py",
   "mimetype": "text/x-python",
   "name": "python",
   "nbconvert_exporter": "python",
   "pygments_lexer": "ipython3",
   "version": "3.6.5"
  }
 },
 "nbformat": 4,
 "nbformat_minor": 2
}
